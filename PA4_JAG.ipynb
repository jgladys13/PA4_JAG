{
 "cells": [
  {
   "cell_type": "markdown",
   "id": "f5492ab0",
   "metadata": {},
   "source": [
    "# PA4_JAG\n",
    "\n",
    "***Joey Gladys***\n",
    "\n",
    "***Fall 2021***\n",
    "\n",
    "***Version 1.0***\n"
   ]
  },
  {
   "cell_type": "markdown",
   "id": "85dc1694",
   "metadata": {},
   "source": [
    "# a."
   ]
  },
  {
   "cell_type": "markdown",
   "id": "8693bdac",
   "metadata": {},
   "source": [
    "#### i. append() - adds a single item to the existing list"
   ]
  },
  {
   "cell_type": "code",
   "execution_count": 3,
   "id": "cd5d9e8f",
   "metadata": {},
   "outputs": [
    {
     "name": "stdout",
     "output_type": "stream",
     "text": [
      "['Mercedes Benz', 'Audi', 'BMW', 'Ford, Chevrolet, Toyota']\n"
     ]
    }
   ],
   "source": [
    "Car = [\"Mercedes Benz\", \"Audi\", \"BMW\"]\n",
    "Car.append(\"Ford, Chevrolet, Toyota\")\n",
    "print (Car)"
   ]
  },
  {
   "cell_type": "markdown",
   "id": "b5c6a84a",
   "metadata": {},
   "source": [
    "#### ii. extend() - adds all the elements of an iterable to the end of the list"
   ]
  },
  {
   "cell_type": "code",
   "execution_count": 5,
   "id": "3c7dead4",
   "metadata": {},
   "outputs": [
    {
     "name": "stdout",
     "output_type": "stream",
     "text": [
      "Languages List: ['French', 'English', 'Spanish', 'German', 'Swedish']\n"
     ]
    }
   ],
   "source": [
    "languages = ['French', 'English']\n",
    "languages1 = ['Spanish', 'German', 'Swedish']\n",
    "\n",
    "languages.extend(languages1)\n",
    "print('Languages List:', languages)"
   ]
  },
  {
   "cell_type": "markdown",
   "id": "e053b587",
   "metadata": {},
   "source": [
    "#### iii. insert() - inserts an element to the list at the specified index"
   ]
  },
  {
   "cell_type": "code",
   "execution_count": 7,
   "id": "a61097f3",
   "metadata": {},
   "outputs": [
    {
     "name": "stdout",
     "output_type": "stream",
     "text": [
      "List: [2, 3, 5, 17, 19, 21, 34]\n"
     ]
    }
   ],
   "source": [
    "numbers = [2, 3, 5, 17, 21, 34]\n",
    "numbers.insert(4, 19)\n",
    "print('List:',numbers)"
   ]
  },
  {
   "cell_type": "markdown",
   "id": "85d6956e",
   "metadata": {},
   "source": [
    "#### iv. remove() - removes the first matching element from the list"
   ]
  },
  {
   "cell_type": "code",
   "execution_count": 8,
   "id": "852fe3f1",
   "metadata": {},
   "outputs": [
    {
     "name": "stdout",
     "output_type": "stream",
     "text": [
      "Updated animals list:  ['cat', 'lion', 'hippo', 'crocodile']\n"
     ]
    }
   ],
   "source": [
    "animals = ['cat', 'dog', 'lion', 'hippo', 'crocodile']\n",
    "animals.remove('dog')\n",
    "print('Updated animals list: ', animals)"
   ]
  },
  {
   "cell_type": "markdown",
   "id": "38194c82",
   "metadata": {},
   "source": [
    "#### v. count() - returns the number of elements with the specified value"
   ]
  },
  {
   "cell_type": "code",
   "execution_count": 11,
   "id": "ef9fd232",
   "metadata": {},
   "outputs": [
    {
     "name": "stdout",
     "output_type": "stream",
     "text": [
      "2\n"
     ]
    }
   ],
   "source": [
    "vegetables = ['cucumber', 'green beans', 'squash', 'carrots', 'green beans']\n",
    "x = vegetables.count(\"green beans\")\n",
    "print(x)"
   ]
  },
  {
   "cell_type": "markdown",
   "id": "04a76771",
   "metadata": {},
   "source": [
    "#### vi. index() - returns the index of the specified element in the list"
   ]
  },
  {
   "cell_type": "code",
   "execution_count": 12,
   "id": "c4ad42bb",
   "metadata": {},
   "outputs": [
    {
     "name": "stdout",
     "output_type": "stream",
     "text": [
      "3\n"
     ]
    }
   ],
   "source": [
    "fruits = ['apple', 'banana', 'cherry', 'grape']\n",
    "index = fruits.index('grape')\n",
    "print(index)"
   ]
  },
  {
   "cell_type": "markdown",
   "id": "961c45e7",
   "metadata": {},
   "source": [
    "#### vii. pop() - removes the item at the given index from the list and returns the removed item"
   ]
  },
  {
   "cell_type": "code",
   "execution_count": 14,
   "id": "b5e0ef69",
   "metadata": {},
   "outputs": [
    {
     "name": "stdout",
     "output_type": "stream",
     "text": [
      "Return Value: C++\n",
      "Updated List: ['Python', 'Java', 'French', 'C']\n"
     ]
    }
   ],
   "source": [
    "languages = ['Python', 'Java', 'C++', 'French', 'C']\n",
    "return_value = languages.pop(2)\n",
    "print('Return Value:', return_value)\n",
    "print('Updated List:', languages)"
   ]
  },
  {
   "cell_type": "markdown",
   "id": "36a5df9b",
   "metadata": {},
   "source": [
    "#### viii. sorted() - sorts the elements of a given list in a specific ascending or descending order"
   ]
  },
  {
   "cell_type": "code",
   "execution_count": 15,
   "id": "c3a0f831",
   "metadata": {},
   "outputs": [
    {
     "name": "stdout",
     "output_type": "stream",
     "text": [
      "Sorted list: ['chicken', 'hippo', 'horse', 'lion', 'tiger']\n"
     ]
    }
   ],
   "source": [
    "animals = ['lion', 'tiger', 'hippo', 'horse', 'chicken']\n",
    "animals.sort()\n",
    "print('Sorted list:', animals)"
   ]
  },
  {
   "cell_type": "markdown",
   "id": "53cd0a1c",
   "metadata": {},
   "source": [
    "#### ix. copy() - returns a shallow copy of the list"
   ]
  },
  {
   "cell_type": "code",
   "execution_count": 16,
   "id": "3b26d81a",
   "metadata": {},
   "outputs": [
    {
     "name": "stdout",
     "output_type": "stream",
     "text": [
      "Copied List: ['crocodile', 24, 8.2]\n"
     ]
    }
   ],
   "source": [
    "my_list = ['crocodile', 24, 8.2]\n",
    "new_list = my_list.copy()\n",
    "print('Copied List:', new_list)"
   ]
  },
  {
   "cell_type": "markdown",
   "id": "afab4d68",
   "metadata": {},
   "source": [
    "#### x. clear() - removes all items from the list"
   ]
  },
  {
   "cell_type": "code",
   "execution_count": 17,
   "id": "cbfeed94",
   "metadata": {},
   "outputs": [
    {
     "name": "stdout",
     "output_type": "stream",
     "text": [
      "List: []\n"
     ]
    }
   ],
   "source": [
    "list = [{3, 12}, ('b'), ['11.8', '8.29']]\n",
    "list.clear()\n",
    "print('List:', list)"
   ]
  },
  {
   "cell_type": "markdown",
   "id": "052e767e",
   "metadata": {},
   "source": [
    "#### xi. any() - returns True if any element of an iterable is True. If not, it returns False"
   ]
  },
  {
   "cell_type": "code",
   "execution_count": 18,
   "id": "4f864a37",
   "metadata": {},
   "outputs": [
    {
     "name": "stdout",
     "output_type": "stream",
     "text": [
      "True\n"
     ]
    }
   ],
   "source": [
    "boolean_list = ['True', 'False', 'True']\n",
    "result = any(boolean_list)\n",
    "print(result)"
   ]
  },
  {
   "cell_type": "markdown",
   "id": "44e71a50",
   "metadata": {},
   "source": [
    "#### xii. filter() - extracts elements from an iterable (list, tuple etc.) for which a function returns True"
   ]
  },
  {
   "cell_type": "code",
   "execution_count": 21,
   "id": "adec8fff",
   "metadata": {},
   "outputs": [
    {
     "name": "stdout",
     "output_type": "stream",
     "text": [
      "('a', 'e', 'i', 'o')\n"
     ]
    }
   ],
   "source": [
    "letters = ['a', 'b', 'c', 'd', 'e', 'i', 'j', 'o', 'x']\n",
    "def filter_vowels(letter):\n",
    "    vowels = ['a', 'e', 'i', 'o', 'u']\n",
    "    return True if letter in vowels else False\n",
    "\n",
    "filtered_vowels = filter(filter_vowels, letters)\n",
    "\n",
    "vowels = tuple(filtered_vowels)\n",
    "print(vowels)"
   ]
  },
  {
   "cell_type": "markdown",
   "id": "f168f693",
   "metadata": {},
   "source": [
    "#### xiii. list() - returns a list"
   ]
  },
  {
   "cell_type": "code",
   "execution_count": 24,
   "id": "79906201",
   "metadata": {},
   "outputs": [
    {
     "name": "stdout",
     "output_type": "stream",
     "text": [
      "['apple', 'banana', 'cherry']\n"
     ]
    }
   ],
   "source": [
    "mylist = [\"apple\", \"banana\", \"cherry\"]\n",
    "print(mylist)"
   ]
  },
  {
   "cell_type": "markdown",
   "id": "f36eaf95",
   "metadata": {},
   "source": [
    "#### xiv. map() - applies a given function to each item of an iterable (list, tuple etc.) and returns an iterator"
   ]
  },
  {
   "cell_type": "code",
   "execution_count": 42,
   "id": "2191ae17",
   "metadata": {},
   "outputs": [
    {
     "ename": "TypeError",
     "evalue": "'list' object is not callable",
     "output_type": "error",
     "traceback": [
      "\u001b[0;31m---------------------------------------------------------------------------\u001b[0m",
      "\u001b[0;31mTypeError\u001b[0m                                 Traceback (most recent call last)",
      "\u001b[0;32m<ipython-input-42-50ad05100378>\u001b[0m in \u001b[0;36m<module>\u001b[0;34m\u001b[0m\n\u001b[1;32m      6\u001b[0m \u001b[0msquared_numbers_iterator\u001b[0m \u001b[0;34m=\u001b[0m \u001b[0mmap\u001b[0m\u001b[0;34m(\u001b[0m\u001b[0msquare\u001b[0m\u001b[0;34m,\u001b[0m \u001b[0mnumbers\u001b[0m\u001b[0;34m)\u001b[0m\u001b[0;34m\u001b[0m\u001b[0;34m\u001b[0m\u001b[0m\n\u001b[1;32m      7\u001b[0m \u001b[0;34m\u001b[0m\u001b[0m\n\u001b[0;32m----> 8\u001b[0;31m \u001b[0msquared_numbers\u001b[0m \u001b[0;34m=\u001b[0m \u001b[0mlist\u001b[0m\u001b[0;34m(\u001b[0m\u001b[0msquared_numbers_iterator\u001b[0m\u001b[0;34m)\u001b[0m\u001b[0;34m\u001b[0m\u001b[0;34m\u001b[0m\u001b[0m\n\u001b[0m\u001b[1;32m      9\u001b[0m \u001b[0mprint\u001b[0m\u001b[0;34m(\u001b[0m\u001b[0msquared_numbers\u001b[0m\u001b[0;34m)\u001b[0m\u001b[0;34m\u001b[0m\u001b[0;34m\u001b[0m\u001b[0m\n",
      "\u001b[0;31mTypeError\u001b[0m: 'list' object is not callable"
     ]
    }
   ],
   "source": [
    "numbers = [2, 4, 6, 8, 10]\n",
    "\n",
    "def square(number):\n",
    "  return number * number\n",
    "\n",
    "squared_numbers_iterator = map(square, numbers)\n",
    "\n",
    "squared_numbers = list(squared_numbers_iterator)\n",
    "print(squared_numbers)"
   ]
  },
  {
   "cell_type": "markdown",
   "id": "476aabf2",
   "metadata": {},
   "source": [
    "# b."
   ]
  },
  {
   "cell_type": "markdown",
   "id": "a6a5ee19",
   "metadata": {},
   "source": [
    "#### i. cmp() - compares two integers and returns -1, 0, 1 according to comparison (Does not work on Python 3)"
   ]
  },
  {
   "cell_type": "code",
   "execution_count": 44,
   "id": "ed97ccfc",
   "metadata": {},
   "outputs": [
    {
     "ename": "NameError",
     "evalue": "name 'cmp' is not defined",
     "output_type": "error",
     "traceback": [
      "\u001b[0;31m---------------------------------------------------------------------------\u001b[0m",
      "\u001b[0;31mNameError\u001b[0m                                 Traceback (most recent call last)",
      "\u001b[0;32m<ipython-input-44-4890e3f39bb8>\u001b[0m in \u001b[0;36m<module>\u001b[0;34m\u001b[0m\n\u001b[1;32m      1\u001b[0m \u001b[0ma\u001b[0m \u001b[0;34m=\u001b[0m \u001b[0;36m1\u001b[0m\u001b[0;34m\u001b[0m\u001b[0;34m\u001b[0m\u001b[0m\n\u001b[1;32m      2\u001b[0m \u001b[0mb\u001b[0m \u001b[0;34m=\u001b[0m \u001b[0;36m2\u001b[0m\u001b[0;34m\u001b[0m\u001b[0;34m\u001b[0m\u001b[0m\n\u001b[0;32m----> 3\u001b[0;31m \u001b[0mprint\u001b[0m\u001b[0;34m(\u001b[0m\u001b[0mcmp\u001b[0m\u001b[0;34m(\u001b[0m\u001b[0ma\u001b[0m\u001b[0;34m,\u001b[0m \u001b[0mb\u001b[0m\u001b[0;34m)\u001b[0m\u001b[0;34m)\u001b[0m\u001b[0;34m\u001b[0m\u001b[0;34m\u001b[0m\u001b[0m\n\u001b[0m\u001b[1;32m      4\u001b[0m \u001b[0;34m\u001b[0m\u001b[0m\n\u001b[1;32m      5\u001b[0m \u001b[0ma\u001b[0m \u001b[0;34m=\u001b[0m \u001b[0;36m2\u001b[0m\u001b[0;34m\u001b[0m\u001b[0;34m\u001b[0m\u001b[0m\n",
      "\u001b[0;31mNameError\u001b[0m: name 'cmp' is not defined"
     ]
    }
   ],
   "source": [
    "a = 1 \n",
    "b = 2 \n",
    "print(cmp(a, b))  \n",
    "  \n",
    "a = 2\n",
    "b = 2 \n",
    "print(cmp(a, b))  \n",
    "  \n",
    "a = 3\n",
    "b = 2 \n",
    "print(cmp(a, b))"
   ]
  },
  {
   "cell_type": "markdown",
   "id": "271043cd",
   "metadata": {},
   "source": [
    "#### ii. len() - returns the number of items (length) in an object"
   ]
  },
  {
   "cell_type": "code",
   "execution_count": 45,
   "id": "bcb8cabd",
   "metadata": {},
   "outputs": [
    {
     "name": "stdout",
     "output_type": "stream",
     "text": [
      "3\n"
     ]
    }
   ],
   "source": [
    "languages = ['Python', 'Java', 'JavaScript']\n",
    "length = len(languages)\n",
    "print(length)"
   ]
  },
  {
   "cell_type": "markdown",
   "id": "4d5bea0d",
   "metadata": {},
   "source": [
    "#### iii. max() - returns the largest item in an iterable. It can also be used to find the largest item between two or more parameters"
   ]
  },
  {
   "cell_type": "code",
   "execution_count": 46,
   "id": "eacbfa65",
   "metadata": {},
   "outputs": [
    {
     "name": "stdout",
     "output_type": "stream",
     "text": [
      "270\n"
     ]
    }
   ],
   "source": [
    "numbers = [7, 34, 12, 4, 270, 42]\n",
    "\n",
    "max_number = max(numbers)\n",
    "print(max_number)"
   ]
  },
  {
   "cell_type": "markdown",
   "id": "241577e0",
   "metadata": {},
   "source": [
    "#### iv. tuple(seq) - converts a list of items into tuples"
   ]
  },
  {
   "cell_type": "code",
   "execution_count": 48,
   "id": "424fa6b3",
   "metadata": {},
   "outputs": [
    {
     "name": "stdout",
     "output_type": "stream",
     "text": [
      "Tuple elements :  (143, 'xyz', 'joey', 'efg')\n"
     ]
    }
   ],
   "source": [
    "aList = [143, 'xyz', 'joey', 'efg']\n",
    "aTuple = tuple(aList)\n",
    "print(\"Tuple elements : \", aTuple)"
   ]
  }
 ],
 "metadata": {
  "kernelspec": {
   "display_name": "Python 3",
   "language": "python",
   "name": "python3"
  },
  "language_info": {
   "codemirror_mode": {
    "name": "ipython",
    "version": 3
   },
   "file_extension": ".py",
   "mimetype": "text/x-python",
   "name": "python",
   "nbconvert_exporter": "python",
   "pygments_lexer": "ipython3",
   "version": "3.8.8"
  }
 },
 "nbformat": 4,
 "nbformat_minor": 5
}
